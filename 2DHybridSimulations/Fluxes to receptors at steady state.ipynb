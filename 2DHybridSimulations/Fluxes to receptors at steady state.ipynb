{
 "cells": [
  {
   "cell_type": "markdown",
   "metadata": {},
   "source": [
    "This notebook illustrates the code used in the paper ```U. Dobramysl, D. Holcman, Mixed analytical-stochastic simulation method for the recovery of a Brownian gradient source from probability fluxes to small windows, Journal of Computational Physics 355 (2018)```.\n",
    "\n",
    "To run this notebook, you need a Python 3 installation (e.g. Anaconda) and the python packages `cython`, `numpy`, `scipy`, `matplotlib`, `seaborn`, `multiprocess` and `tqdm`. To install them, simply run:\n",
    "\n",
    "```pip install cython numpy scipy matplotlib seaborn multiprocess tqdm```"
   ]
  },
  {
   "cell_type": "code",
   "execution_count": null,
   "metadata": {
    "collapsed": false,
    "hideCode": false,
    "hideOutput": false,
    "hidePrompt": false,
    "jupyter": {
     "outputs_hidden": false
    }
   },
   "outputs": [],
   "source": [
    "%matplotlib inline\n",
    "import numpy as np\n",
    "import matplotlib.pyplot as plt\n",
    "import seaborn as sns\n",
    "from matplotlib import rc\n",
    "from utils import json_cache_write, json_cache_read, send_parallel_jobs\n",
    "import pyximport; pyximport.install()\n",
    "from receptor_fluxes import SimulationDomain\n",
    "rc(\"figure\", figsize=(8,6))\n",
    "sns.set_context(\"poster\")\n",
    "sns.set_style(\"ticks\"); None"
   ]
  },
  {
   "cell_type": "markdown",
   "metadata": {},
   "source": [
    "# Simulation of particle fluxes to receptors at steady state - disk"
   ]
  },
  {
   "cell_type": "code",
   "execution_count": null,
   "metadata": {
    "collapsed": false,
    "hideCode": false,
    "hideOutput": false,
    "hidePrompt": false,
    "jupyter": {
     "outputs_hidden": false
    }
   },
   "outputs": [],
   "source": [
    "def run_simulation(parameters):\n",
    "    \"\"\"Perform a single realisation of the simulation.\n",
    "    \n",
    "    Args:\n",
    "        source_distance (float): Distance to the source x.\n",
    "        thetas (list|floats): Receptor angles.\n",
    "        nr_particles (int): Number of particles to release.\n",
    "    Returns:\n",
    "        Receptor fluxes.\n",
    "    \"\"\"\n",
    "    from receptor_fluxes import SimulationDomain\n",
    "\n",
    "    params = {\n",
    "        \"outer_radius\": 1.3,\n",
    "        \"nr_particles\": 1e4,\n",
    "    }\n",
    "    params.update(parameters)\n",
    "    \n",
    "    if params['source_distance'] < 1.0:\n",
    "        return {\"parameters\": params,\n",
    "                \"results\": \n",
    "                {\"normalized_receptor_fluxes\": [float(\"NaN\"), float(\"NaN\")]}}\n",
    "    \n",
    "    sd = SimulationDomain(params[\"thetas\"], source_distance=params[\"source_distance\"],\n",
    "                          outer_radius=params[\"outer_radius\"])\n",
    "    for _ in range(int(params[\"nr_particles\"])):\n",
    "        sd.release_particle()\n",
    "    return {\"parameters\": params, \"results\": {\"normalized_receptor_fluxes\": sd.receptor_fluxes()[1].tolist()}}"
   ]
  },
  {
   "cell_type": "markdown",
   "metadata": {},
   "source": [
    "## Simulation Results"
   ]
  },
  {
   "cell_type": "code",
   "execution_count": null,
   "metadata": {
    "collapsed": false,
    "hideCode": false,
    "hideOutput": false,
    "hidePrompt": false,
    "jupyter": {
     "outputs_hidden": false
    }
   },
   "outputs": [],
   "source": [
    "def plot_fluxes(name, fix=[], legend=None, axlabel=\"\", labelpos=0.3):\n",
    "    from collections import defaultdict\n",
    "    from scipy.interpolate import interp1d\n",
    "    data = defaultdict(lambda : defaultdict(list))\n",
    "    for res in json_cache_read(name):\n",
    "        params = res[\"parameters\"]\n",
    "        fluxes = res[\"results\"][\"normalized_receptor_fluxes\"]\n",
    "        data[params['source_distance']][params['thetas'][1]].append(fluxes[1])\n",
    "    maxf = 0.0\n",
    "    minf = 1.0\n",
    "    styles = iter(['-', '--', '-.', ':'])\n",
    "    if not isinstance(labelpos, list):\n",
    "        labelpos = len(data)*[labelpos]\n",
    "    for j, x in enumerate(sorted(data)):\n",
    "        d = data[x]\n",
    "        theta = sorted(d)\n",
    "        fluxes = [np.mean(d[t]) for t in theta]\n",
    "        maxf = max(max(fluxes), maxf)\n",
    "        minf = min(min(fluxes), minf)\n",
    "        for f in fix:\n",
    "            fluxes[f] = float(\"NaN\")\n",
    "        l = plt.plot(theta, fluxes, color='black', ls=next(styles), label=\"$L=%g$\" % x)[0]\n",
    "    maxt = max(theta)\n",
    "    plt.xlabel(r\"Receptor 2 angle $\\theta_2$\")\n",
    "    plt.ylabel(r\"Splitting probability $J_2/(J_1+J_2)$\")\n",
    "    plt.xticks([0, np.pi/4, np.pi/2, np.pi*3/4., np.pi, np.pi*5/4., np.pi*3/2., np.pi*7/4., 2*np.pi],\n",
    "               [\"$0$\", r\"$\\pi/4$\", r\"$\\pi/2$\", r\"$3\\pi/4$\", r\"$\\pi$\", r\"$5\\pi/4$\", r\"$3\\pi/2$\", r\"$7\\pi/8$\", r\"$2\\pi$\"])\n",
    "    plt.axis(xmax=1*maxt, ymin=min(0.45, 0.95*minf), ymax=max(0.51, maxf))\n",
    "    if legend is not None:\n",
    "        plt.legend(loc=legend)\n",
    "    plt.text(0.05, 0.05, axlabel, transform=plt.gca().transAxes)\n",
    "    # sns.set_style(\"ticks\", {\"xtick.major.size\": 8, \"ytick.major.size\": 8})\n",
    "    # sns.despine()\n",
    "    plt.axis(ymin=0, ymax=1)"
   ]
  },
  {
   "cell_type": "markdown",
   "metadata": {},
   "source": [
    "### Receptor 1 at $\\theta_1=0$, vary $\\theta_2$"
   ]
  },
  {
   "cell_type": "code",
   "execution_count": null,
   "metadata": {
    "collapsed": false,
    "hideCode": false,
    "hidePrompt": false,
    "jupyter": {
     "outputs_hidden": false
    }
   },
   "outputs": [],
   "source": [
    "todo = sum([10*[{\"source_distance\": x, \"thetas\":[0, angle], 'nr_particles': 1e3} for angle in np.linspace(0, np.pi, 50)]\n",
    "            for x in [1.3, 5.0, 10.0, 100.0]], [])\n",
    "results = send_parallel_jobs(\"zero_pi_flux\", run_simulation, todo)\n",
    "plot_fluxes(\"zero_pi_flux\")"
   ]
  },
  {
   "cell_type": "markdown",
   "metadata": {},
   "source": [
    "### Receptor 1 at $\\theta_1=\\pi$, vary $\\theta_2$"
   ]
  },
  {
   "cell_type": "code",
   "execution_count": null,
   "metadata": {
    "collapsed": false,
    "hideCode": false,
    "hidePrompt": false,
    "jupyter": {
     "outputs_hidden": false
    }
   },
   "outputs": [],
   "source": [
    "todo = sum([10*[{\"source_distance\": x, \"thetas\":[np.pi, angle], 'nr_particles': 1e3} for angle in np.linspace(0, np.pi, 50)]\n",
    "            for x in [1.3, 5.0, 10.0, 100.0]], [])\n",
    "results = send_parallel_jobs(\"pi_flux\", run_simulation, todo)\n",
    "plt.title(r\"Simulation data for $\\theta_1=\\pi$\")\n",
    "plot_fluxes(\"pi_flux\")"
   ]
  },
  {
   "cell_type": "markdown",
   "metadata": {},
   "source": [
    "### Receptor 1 at $\\pi/2$, vary $\\theta_2$"
   ]
  },
  {
   "cell_type": "code",
   "execution_count": null,
   "metadata": {
    "collapsed": false,
    "hideCode": false,
    "hidePrompt": false,
    "jupyter": {
     "outputs_hidden": false
    }
   },
   "outputs": [],
   "source": [
    "todo = sum([10*[{\"source_distance\": x, \"thetas\":[np.pi/2., angle], 'nr_particles': 1e3} for angle in np.linspace(0, 2*np.pi, 50)]\n",
    "            for x in [1.3, 5.0, 10.0, 100.0]], [])\n",
    "results = send_parallel_jobs(\"pi_half_flux\", run_simulation, todo)\n",
    "plt.title(r\"Simulation data for $\\theta_1=\\pi/2$\")\n",
    "plot_fluxes(\"pi_half_flux\", fix=[])"
   ]
  },
  {
   "cell_type": "markdown",
   "metadata": {},
   "source": [
    "### Contour plots "
   ]
  },
  {
   "cell_type": "code",
   "execution_count": null,
   "metadata": {
    "collapsed": false,
    "hideCode": false,
    "hideOutput": false,
    "hidePrompt": false,
    "jupyter": {
     "outputs_hidden": false
    }
   },
   "outputs": [],
   "source": [
    "x = np.linspace(0, 20, 21)\n",
    "xx, yy = np.meshgrid(x, x)\n",
    "\n",
    "def rotate_thetas(x, y):\n",
    "    thetas = np.array([0, np.pi])\n",
    "    phi = np.arctan2(y, x)\n",
    "    return (thetas - phi).tolist()\n",
    "\n",
    "todo = [{\"source_distance\": np.linalg.norm([x, y]), \"thetas\":rotate_thetas(x, y), 'nr_particles': 1e3} for x, y in zip(xx.flat, yy.flat)]\n",
    "results = send_parallel_jobs(\"contour_zero_pi\", run_simulations, todo)"
   ]
  },
  {
   "cell_type": "code",
   "execution_count": null,
   "metadata": {
    "collapsed": false,
    "hideCode": false,
    "hidePrompt": false,
    "jupyter": {
     "outputs_hidden": false
    },
    "scrolled": true
   },
   "outputs": [],
   "source": [
    "def plot_contours(name, symmetry, dtheta=0.0, axeslabel=\"\", calcz=None, smoothen=None,\n",
    "                  labelpos=[(0, 5), (0, 10), (-10, 2.5)]):\n",
    "    from matplotlib.mlab import griddata\n",
    "    from scipy.optimize import leastsq\n",
    "    from skimage.filters import gaussian\n",
    "    m = []\n",
    "    for res in json_cache_read(name):\n",
    "        p = res[\"parameters\"]\n",
    "        radius = p[\"source_distance\"]\n",
    "        angle = -p[\"thetas\"][0]-dtheta\n",
    "        x = np.round(radius*np.cos(angle), decimals=14)\n",
    "        y = np.round(radius*np.sin(angle), decimals=14)\n",
    "        fluxes = res[\"results\"][\"normalized_receptor_fluxes\"]\n",
    "        if calcz is None:\n",
    "            calcz = lambda fluxes: abs(np.diff(fluxes))[0]\n",
    "        z = calcz(fluxes)\n",
    "        if not np.isfinite(z):\n",
    "            z = 0.0\n",
    "        m.append((x, y, z))\n",
    "        if symmetry == \"inflection\":\n",
    "            m.append((x, -y, z))\n",
    "            m.append((-x, y, z))\n",
    "            m.append((-x, -y, z))\n",
    "        elif symmetry == \"ymirror\":\n",
    "            m.append((x, -y, z))\n",
    "    theta1 = dtheta\n",
    "    theta2 = dtheta - np.diff(p[\"thetas\"])[0]\n",
    "    m = np.array(sorted(m))\n",
    "    ax = plt.gca()\n",
    "    current_palette = sns.color_palette()\n",
    "    \n",
    "    if smoothen is not None:\n",
    "        xi = np.linspace(m[:, 0].min(), m[:, 0].max(), 1000)\n",
    "        yi = np.linspace(m[:, 1].min(), m[:, 1].max(), 1000)\n",
    "        zi = griddata(m[:, 0], m[:, 1], m[:, 2], xi, yi, interp='linear')\n",
    "        zs = gaussian(zi, sigma=smoothen)\n",
    "        CS = ax.contour(xi, yi, zs, [0.01, 0.05, 0.1], colors=current_palette)\n",
    "        # ax.contourf(xi, yi, zs, [0.01, 0.05, 0.1, 1.0], colors=current_palette)\n",
    "    else:\n",
    "        CS = ax.tricontour(m[:, 0], m[:, 1], m[:, 2], [0.01, 0.05, 0.1], colors=current_palette)\n",
    "        # ax.tricontourf(m[:, 0], m[:, 1], m[:, 2], [0.01, 0.05, 0.1, 1.0], colors=current_palette)\n",
    "    \n",
    "    for c in CS.collections:\n",
    "        paths = c.get_paths()\n",
    "        v = sorted(paths, key=lambda p: -len(p.vertices))[0].vertices\n",
    "\n",
    "        def resi(c):\n",
    "            c = np.array([c[0], c[1]])\n",
    "            Ri = ((v-c[np.newaxis, :])**2).sum(axis=1)**0.5\n",
    "            return Ri - Ri.mean()\n",
    "\n",
    "        def meanrad(c):\n",
    "            c = np.array([c[0], c[1]])\n",
    "            Ri = ((v-c[np.newaxis, :])**2).sum(axis=1)**0.5\n",
    "            return Ri.mean()\n",
    "        \n",
    "        print meanrad(leastsq(resi, (1,-5))[0])\n",
    "    \n",
    "    # ax.clabel(CS, CS.levels, inline=True, inline_spacing=20,\n",
    "    #          fmt={l: (\"%d %%\" % (l*100)) for l in CS.levels},\n",
    "    #          manual=labelpos,\n",
    "    #          fontsize=12)\n",
    "    for l, lpos in zip(CS.levels, labelpos):\n",
    "        ax.annotate(\"%d %%\" % (l*100), lpos, fontsize=12, ha=\"center\", va=\"center\")\n",
    "    \n",
    "    ax.add_patch(plt.Circle((0,0), radius=1, zorder=20, edgecolor=\"k\", facecolor=\"w\", linewidth=1))\n",
    "    for i, t in enumerate(p[\"thetas\"]):\n",
    "        t -= p[\"thetas\"][0] + dtheta\n",
    "        ax.add_patch(plt.Circle((np.cos(t), np.sin(t)), radius=0.2, color='k', zorder=21))\n",
    "    ax.axis('square')\n",
    "    ax.set_xlabel(\"$x$\")\n",
    "    ax.set_ylabel(\"$y$\")"
   ]
  },
  {
   "cell_type": "markdown",
   "metadata": {},
   "source": [
    "Maximal separation between receptors yields the following detection contours (blue is the $1\\%$ threshold, green the $5\\%$ threshold and red the $10\\%$ threshold. The contoured data is the flux difference between the receptors $|J_1-J_2|/(J_1+J_2)$."
   ]
  },
  {
   "cell_type": "code",
   "execution_count": null,
   "metadata": {
    "collapsed": false,
    "hideCode": false,
    "hidePrompt": false,
    "jupyter": {
     "outputs_hidden": false
    }
   },
   "outputs": [],
   "source": [
    "plt.title(r\"$\\theta_1=\\pi/2$ and $\\theta_2=-\\pi/2$\")\n",
    "plot_contours(\"contour_zero_pi\", \"inflection\", np.pi/2.)"
   ]
  },
  {
   "cell_type": "code",
   "execution_count": null,
   "metadata": {
    "collapsed": false,
    "hideCode": false,
    "hideOutput": false,
    "hidePrompt": false,
    "jupyter": {
     "outputs_hidden": false
    }
   },
   "outputs": [],
   "source": [
    "x = np.linspace(-20, 20, 41)\n",
    "y = np.linspace(0, 20, 21)\n",
    "xx, yy = np.meshgrid(x, y)\n",
    "\n",
    "def rotate_thetas(x, y):\n",
    "    thetas = np.array([-np.pi/4., np.pi/4.])\n",
    "    phi = np.arctan2(y, x)\n",
    "    return (thetas - phi).tolist()\n",
    "\n",
    "todo = [{\"source_distance\": np.linalg.norm([x, y]), \"thetas\": rotate_thetas(x, y), 'nr_particles': 1e3} for x, y in zip(xx.flat, yy.flat)]\n",
    "results = send_parallel_jobs(\"contour_pi_quarter\", run_simulations, todo)"
   ]
  },
  {
   "cell_type": "markdown",
   "metadata": {},
   "source": [
    "The following plot shows the detection contours for a receptor angle separation of $\\pi/2$."
   ]
  },
  {
   "cell_type": "code",
   "execution_count": null,
   "metadata": {
    "collapsed": false,
    "hideCode": false,
    "hidePrompt": false,
    "jupyter": {
     "outputs_hidden": false
    }
   },
   "outputs": [],
   "source": [
    "plt.title(r\"$\\theta_1=\\pi/4$ and $\\theta_2=-\\pi/4$\")\n",
    "plot_contours(\"contour_pi_quarter\", \"ymirror\", np.pi/4.)"
   ]
  }
 ],
 "metadata": {
  "kernelspec": {
   "display_name": "Python 3 (ipykernel)",
   "language": "python",
   "name": "python3"
  },
  "language_info": {
   "codemirror_mode": {
    "name": "ipython",
    "version": 3
   },
   "file_extension": ".py",
   "mimetype": "text/x-python",
   "name": "python",
   "nbconvert_exporter": "python",
   "pygments_lexer": "ipython3",
   "version": "3.9.13"
  }
 },
 "nbformat": 4,
 "nbformat_minor": 4
}
