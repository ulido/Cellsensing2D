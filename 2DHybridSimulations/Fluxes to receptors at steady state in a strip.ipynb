{
 "cells": [
  {
   "cell_type": "markdown",
   "metadata": {},
   "source": [
    "This notebook illustrates the code used in the paper ```U. Dobramysl, D. Holcman, Mixed analytical-stochastic simulation method for the recovery of a Brownian gradient source from probability fluxes to small windows, Journal of Computational Physics 355 (2018)```.\n",
    "\n",
    "To run this notebook, you need a Python 3 installation (e.g. Anaconda) and the python packages `cython`, `numpy`, `scipy`, `matplotlib`, `seaborn`, `multiprocess` and `tqdm`. To install them, simply run:\n",
    "\n",
    "```pip install cython numpy scipy matplotlib seaborn multiprocess tqdm```"
   ]
  },
  {
   "cell_type": "code",
   "execution_count": null,
   "metadata": {
    "collapsed": false,
    "hideCode": false,
    "hideOutput": false,
    "hidePrompt": false,
    "jupyter": {
     "outputs_hidden": false
    }
   },
   "outputs": [],
   "source": [
    "%matplotlib inline\n",
    "import numpy as np\n",
    "from numpy.random import normal, uniform, poisson\n",
    "import matplotlib.pyplot as plt\n",
    "import seaborn as sns\n",
    "from matplotlib import rc\n",
    "from utils import json_cache_write, json_cache_read, send_parallel_jobs\n",
    "import pyximport; pyximport.install()\n",
    "from receptor_fluxes_strip import SimulationDomain\n",
    "rc(\"figure\", figsize=(8,6))\n",
    "sns.set_context(\"poster\")\n",
    "sns.set_style(\"ticks\"); None"
   ]
  },
  {
   "cell_type": "markdown",
   "metadata": {},
   "source": [
    "# Simulation of particle fluxes to receptors at steady state - disk in a strip"
   ]
  },
  {
   "cell_type": "code",
   "execution_count": null,
   "metadata": {
    "collapsed": false,
    "hideCode": false,
    "hideOutput": false,
    "hidePrompt": false,
    "jupyter": {
     "outputs_hidden": false
    }
   },
   "outputs": [],
   "source": [
    "def run_simulation(parameters):\n",
    "    \"\"\"Perform a single realisation of the simulation.\n",
    "    \n",
    "    Args:\n",
    "        source_distance (float): Distance to the source x.\n",
    "        thetas (list|floats): Receptor angles.\n",
    "        nr_particles (int): Number of particles to release.\n",
    "    Returns:\n",
    "        Receptor fluxes.\n",
    "    \"\"\"\n",
    "    import scipy.stats\n",
    "    from receptor_fluxes_strip import SimulationDomain\n",
    "\n",
    "    params = {\n",
    "        \"strip_width\": 3.0,\n",
    "        \"nr_particles\": 1e2,\n",
    "    }\n",
    "    params.update(parameters)\n",
    "    \n",
    "    x, y = params[\"source_position\"]\n",
    "    d = (x**2 + y**2)**0.5\n",
    "    if abs(y) > params[\"strip_width\"] / 2. or d < 1.0:\n",
    "        return {\"parameters\": params,\n",
    "                \"results\": {}}\n",
    "    \n",
    "    sd = SimulationDomain(params[\"thetas\"], source_position=params[\"source_position\"],\n",
    "                          strip_width=params[\"strip_width\"])\n",
    "    for _ in range(int(params[\"nr_particles\"])):\n",
    "        sd.release_particle()\n",
    "    return {\"parameters\": params, \"results\": {\"normalized_receptor_fluxes\": sd.receptor_fluxes()[1].tolist()}}"
   ]
  },
  {
   "cell_type": "markdown",
   "metadata": {},
   "source": [
    "## Simulation Results"
   ]
  },
  {
   "cell_type": "code",
   "execution_count": null,
   "metadata": {
    "collapsed": false,
    "hideCode": false,
    "hideOutput": false,
    "hidePrompt": false,
    "jupyter": {
     "outputs_hidden": false
    }
   },
   "outputs": [],
   "source": [
    "def plot_fluxes(name, fix=[], legend=None, axlabel=\"\", labelpos=0.3, exclude=[]):\n",
    "    from collections import defaultdict\n",
    "    from scipy.interpolate import interp1d\n",
    "    from matplotlib.lines import Line2D\n",
    "    data = defaultdict(lambda : defaultdict(list))\n",
    "    widths = set()\n",
    "    dists = set()\n",
    "    for res in json_cache_read(name):\n",
    "        params = res[\"parameters\"]\n",
    "        fluxes = res[\"results\"][\"normalized_receptor_fluxes\"]\n",
    "        key = (params['source_position'][0], params['strip_width'])\n",
    "        if key[0] != 5. and key[0] !=50:\n",
    "            dists.add(key[0])\n",
    "            widths.add(key[1])\n",
    "            data[key][params['thetas'][1]].append(fluxes[1])\n",
    "\n",
    "    styles = {}\n",
    "    colors = ['k', 'b', 'b' , 'b']\n",
    "    templ = ['-', '--', '-.', ':', '-', '--']\n",
    "    for i, L in enumerate(sorted(dists)):\n",
    "        styles[L] = {'color': colors[i], 'style': templ[i]}\n",
    "    maxf = 0.0\n",
    "    minf = 1.0\n",
    "    if not isinstance(labelpos, list):\n",
    "        labelpos = len(data)*[labelpos]\n",
    "    for j, x in enumerate(sorted(data)):\n",
    "        d = data[x]\n",
    "        theta = sorted(d)\n",
    "        fluxes = [np.mean(d[t]) for t in theta]\n",
    "        maxf = max(max(fluxes), maxf)\n",
    "        minf = min(min(fluxes), minf)\n",
    "        for f in fix:\n",
    "            fluxes[f] = float(\"NaN\")\n",
    "        l = plt.plot(theta, fluxes, color=styles[x[0]]['color'], label=\"$L=%g,a=%g$\" % x, ls=styles[x[0]]['style'])[0]\n",
    "    maxt = max(theta)\n",
    "    plt.xlabel(r\"Receptor 2 angle $\\theta_2$\")\n",
    "    plt.ylabel(r\"Splitting probability $J_2/(J_1+J_2)$\")\n",
    "    plt.xticks([0, np.pi/4, np.pi/2, np.pi*3/4., np.pi, np.pi*5/4., np.pi*3/2., np.pi*7/4., 2*np.pi],\n",
    "               [\"$0$\", r\"$\\pi/4$\", r\"$\\pi/2$\", r\"$3\\pi/4$\", r\"$\\pi$\", r\"$5\\pi/4$\", r\"$3\\pi/2$\", r\"$7\\pi/8$\", r\"$2\\pi$\"])\n",
    "    plt.axis(xmax=1*maxt, ymin=min(0.45, 0.95*minf), ymax=max(0.51, maxf))\n",
    "    if legend is not None:\n",
    "        handles = [Line2D([0, 1], [0, 0], ls=styles[L]['style'], color=styles[L]['color']) for L in sorted(dists)]\n",
    "        labels = [\"$L=%g$\" % L for L in sorted(dists)]\n",
    "        plt.legend(handles, labels, loc=legend)\n",
    "    plt.text(-0.2, 1.05, axlabel, transform=plt.gca().transAxes)\n",
    "    plt.axis(ymin=0, ymax=1)"
   ]
  },
  {
   "cell_type": "markdown",
   "metadata": {},
   "source": [
    "### Receptor 1 at $\\theta_1=0$, vary $\\theta_2$"
   ]
  },
  {
   "cell_type": "code",
   "execution_count": null,
   "metadata": {
    "collapsed": false,
    "hideCode": false,
    "hidePrompt": false,
    "jupyter": {
     "outputs_hidden": false
    }
   },
   "outputs": [],
   "source": [
    "for a in [2.1, 3.0, 5.0]:\n",
    "    for L in [1.3, 2.0, 10.0, 100.0]:\n",
    "        todo += 10*[{\"source_position\": (L, 0.0), \"thetas\":[0, angle], \"strip_width\": a, 'nr_particles': 1e3} for angle in np.linspace(0, np.pi, 50)]\n",
    "results = send_parallel_jobs(\"strip_zero_pi_flux\", run_simulation, todo)\n",
    "plt.title(r\"Simulation data for $\\theta_1=0$\")\n",
    "plot_fluxes(\"strip_zero_pi_flux\")"
   ]
  },
  {
   "cell_type": "markdown",
   "metadata": {},
   "source": [
    "### Receptor 1 at $\\theta_1=\\pi$, vary $\\theta_2$"
   ]
  },
  {
   "cell_type": "code",
   "execution_count": null,
   "metadata": {
    "collapsed": false,
    "hideCode": false,
    "hidePrompt": false,
    "jupyter": {
     "outputs_hidden": false
    }
   },
   "outputs": [],
   "source": [
    "for a in [2.1, 3.0, 5.0]:\n",
    "    for L in [1.3, 2.0, 10.0, 100.0]:\n",
    "        todo += 10*[{\"source_position\": (L, 0.0), \"thetas\":[np.pi, angle], \"strip_width\": a, 'nr_particles': 1e4} for angle in np.linspace(0, np.pi, 50)]\n",
    "results = send_parallel_jobs(\"strip_pi_flux\", todo)\n",
    "plt.title(r\"Simulation data for $\\theta_1=\\pi$\")\n",
    "plot_fluxes(\"strip_pi_flux\")"
   ]
  },
  {
   "cell_type": "markdown",
   "metadata": {},
   "source": [
    "### Receptor 1 at $\\theta_1=\\pi/2$, vary $\\theta_2$\n",
    "\n",
    "The receptor fluxes below show that direction sensing with maximal separation of receptors is possible below a distance of $L=10R$ with a flux difference threshold of $5\\%$. The plots of the analytical function below is in excellent agreement (If we modify Casper's expression slightly!)."
   ]
  },
  {
   "cell_type": "code",
   "execution_count": null,
   "metadata": {
    "collapsed": false,
    "hideCode": false,
    "hidePrompt": false,
    "jupyter": {
     "outputs_hidden": false
    }
   },
   "outputs": [],
   "source": [
    "from random import shuffle\n",
    "todo = []\n",
    "for a in [2.1, 3.0, 5.0]:\n",
    "    for L in [1.3, 2.0, 10.0, 100.0]:\n",
    "        todo += 10*[{\"source_position\": (L, 0.0), \"thetas\":[np.pi/2., angle], \"strip_width\": a, 'nr_particles': 1e4} for angle in np.linspace(0, 2*np.pi, 50)]\n",
    "results = send_parallel_jobs(\"strip_pi_half_flux\", todo)\n",
    "plt.title(r\"Simulation data for $\\theta_1=\\pi/2$\")\n",
    "plot_fluxes(\"strip_pi_half_flux\")"
   ]
  },
  {
   "cell_type": "markdown",
   "metadata": {},
   "source": [
    "### Receptors at $\\theta_1=0$, vary $\\theta_2$, vary strip width $a$"
   ]
  },
  {
   "cell_type": "code",
   "execution_count": null,
   "metadata": {
    "collapsed": false,
    "hideCode": false,
    "hidePrompt": false,
    "jupyter": {
     "outputs_hidden": false
    }
   },
   "outputs": [],
   "source": [
    "todo = sum([[{\"source_position\": (10.0, 0.0), \"thetas\":[0, angle], \"strip_width\": x, 'nr_particles': 1e1} for angle in np.linspace(0, np.pi, 10)]\n",
    "            for x in [5.0, 10.0, 20.0]], [])*10000\n",
    "results = send_parallel_jobs(\"strip_zero_pi_flux_varywidth\", todo)\n",
    "plt.title(r\"Simulation data for $\\theta_1=0$\")\n",
    "plot_fluxes_stripwidth(\"strip_zero_pi_flux_varywidth\")"
   ]
  },
  {
   "cell_type": "markdown",
   "metadata": {},
   "source": [
    "### Receptors at $\\theta_1=\\pi/2$, vary $\\theta_2$, vary strip width $a$"
   ]
  },
  {
   "cell_type": "code",
   "execution_count": null,
   "metadata": {
    "collapsed": false,
    "hideCode": false,
    "hidePrompt": false,
    "jupyter": {
     "outputs_hidden": false
    }
   },
   "outputs": [],
   "source": [
    "todo = sum([[{\"source_position\": (10.0, 0.0), \"thetas\":[np.pi/2., angle], \"strip_width\": x, 'nr_particles': 1e1} for angle in np.linspace(0, 2*np.pi, 20)]\n",
    "            for x in [5.0, 10.0, 20.0]], [])*10000\n",
    "results = send_parallel_jobs(\"strip_pihalf_flux_varywidth\", todo)\n",
    "plt.title(r\"Simulation data for $\\theta_1=\\pi/2$\")\n",
    "plot_fluxes_stripwidth(\"strip_pihalf_flux_varywidth\")"
   ]
  },
  {
   "cell_type": "markdown",
   "metadata": {},
   "source": [
    "### Receptors at $\\pi$, vary $\\theta_2$, vary strip width $a$"
   ]
  },
  {
   "cell_type": "code",
   "execution_count": null,
   "metadata": {
    "collapsed": false,
    "hideCode": false,
    "hidePrompt": false,
    "jupyter": {
     "outputs_hidden": false
    }
   },
   "outputs": [],
   "source": [
    "todo = sum([[{\"source_position\": (10.0, 0.0), \"thetas\":[np.pi, angle], \"strip_width\": x, 'nr_particles': 1e1} for angle in np.linspace(0, np.pi, 10)]\n",
    "            for x in [5.0, 10.0, 20.0]], [])*10000\n",
    "results = send_parallel_jobs(\"strip_pi_flux_varywidth\", todo)\n",
    "plt.title(r\"Simulation data for $\\theta_1=\\pi$\")\n",
    "plot_fluxes_stripwidth(\"strip_pi_flux_varywidth\")"
   ]
  }
 ],
 "metadata": {
  "kernelspec": {
   "display_name": "Python 3 (ipykernel)",
   "language": "python",
   "name": "python3"
  },
  "language_info": {
   "codemirror_mode": {
    "name": "ipython",
    "version": 3
   },
   "file_extension": ".py",
   "mimetype": "text/x-python",
   "name": "python",
   "nbconvert_exporter": "python",
   "pygments_lexer": "ipython3",
   "version": "3.9.13"
  }
 },
 "nbformat": 4,
 "nbformat_minor": 4
}
