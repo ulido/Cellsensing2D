{
 "cells": [
  {
   "cell_type": "markdown",
   "metadata": {},
   "source": [
    "This notebook illustrates the code used in the paper ```U. Dobramysl, D. Holcman, Mixed analytical-stochastic simulation method for the recovery of a Brownian gradient source from probability fluxes to small windows, Journal of Computational Physics 355 (2018)```.\n",
    "\n",
    "To run this notebook, you need a Python 3 installation (e.g. Anaconda) and the python packages `cython`, `numpy`, `scipy`, `matplotlib`, `seaborn`, `multiprocess` and `tqdm`. To install them, simply run:\n",
    "\n",
    "```pip install cython numpy scipy matplotlib seaborn multiprocess tqdm```"
   ]
  },
  {
   "cell_type": "code",
   "execution_count": null,
   "metadata": {
    "collapsed": false,
    "hideCode": false,
    "hideOutput": false,
    "hidePrompt": false,
    "jupyter": {
     "outputs_hidden": false
    }
   },
   "outputs": [],
   "source": [
    "%matplotlib inline\n",
    "import numpy as np\n",
    "import matplotlib.pyplot as plt\n",
    "import seaborn as sns\n",
    "from matplotlib import rc\n",
    "from utils import json_cache_write, json_cache_read, send_parallel_jobs\n",
    "import pyximport; pyximport.install()\n",
    "from receptor_fluxes_halfspace import SimulationDomain\n",
    "rc(\"figure\", figsize=(8,6))\n",
    "sns.set_context(\"poster\")\n",
    "sns.set_style(\"ticks\"); None"
   ]
  },
  {
   "cell_type": "markdown",
   "metadata": {},
   "source": [
    "# Simulation of particle fluxes to receptors at steady state - Half-space"
   ]
  },
  {
   "cell_type": "code",
   "execution_count": null,
   "metadata": {
    "collapsed": false,
    "hideCode": false,
    "hideOutput": false,
    "hidePrompt": false,
    "jupyter": {
     "outputs_hidden": false
    }
   },
   "outputs": [],
   "source": [
    "def run_simulation(parameters):\n",
    "    \"\"\"Perform a single realisation of the simulation.\n",
    "    \n",
    "    Args:\n",
    "        source_distance (float): Distance to the source x.\n",
    "        thetas (list|floats): Receptor angles.\n",
    "        nr_particles (int): Number of particles to release.\n",
    "    Returns:\n",
    "        Receptor fluxes.\n",
    "    \"\"\"\n",
    "    from receptor_fluxes_halfspace import SimulationDomain\n",
    "    \n",
    "    params = {\n",
    "        \"receptor_distance\": 10.,\n",
    "        \"nr_particles\": 1e4,\n",
    "        \"receptor_epsilon\": 1.,\n",
    "    }\n",
    "    params.update(parameters)\n",
    "    \n",
    "    receptor_positions = [-params[\"receptor_distance\"]/2., params[\"receptor_distance\"]/2.]\n",
    "    \n",
    "    source_position = (\n",
    "        params[\"source_distance\"]*np.cos(params[\"source_angle\"]),\n",
    "        params[\"source_distance\"]*np.sin(params[\"source_angle\"]))\n",
    "    \n",
    "    sd = SimulationDomain(receptor_positions, receptor_epsilon=params['receptor_epsilon'],\n",
    "                          source_position=source_position)\n",
    "    for _ in range(int(params[\"nr_particles\"])):\n",
    "        sd.release_particle()\n",
    "    return {\"parameters\": params, \"results\": {\"normalized_receptor_fluxes\": sd.receptor_fluxes()[1].tolist()}}"
   ]
  },
  {
   "cell_type": "markdown",
   "metadata": {},
   "source": [
    "## Simulation Results"
   ]
  },
  {
   "cell_type": "code",
   "execution_count": null,
   "metadata": {
    "hideCode": false,
    "hideOutput": false,
    "hidePrompt": false,
    "tags": []
   },
   "outputs": [],
   "source": [
    "import json\n",
    "import gzip\n",
    "def json_cache_write(name, data):\n",
    "    with gzip.open(name + '.json.gz', 'wt', encoding='utf8') as f:\n",
    "        json.dump(data, f)\n",
    "        \n",
    "def json_cache_read(name):\n",
    "    with gzip.open(name + '.json.gz', 'rt', encoding='utf8') as f:\n",
    "        return json.load(f)"
   ]
  },
  {
   "cell_type": "code",
   "execution_count": null,
   "metadata": {
    "hideCode": false,
    "hideOutput": false,
    "hidePrompt": false,
    "tags": []
   },
   "outputs": [],
   "source": [
    "from multiprocess import Pool\n",
    "from tqdm.auto import tqdm\n",
    "\n",
    "def send_parallel_jobs(name, todo):\n",
    "    try:\n",
    "        return json_cache_read(name)\n",
    "    except (IOError, ValueError):\n",
    "        pass\n",
    "\n",
    "    with Pool() as p:\n",
    "        results = [r for r in tqdm(p.imap_unordered(run_simulation, todo), total=len(todo), smoothing=0)]\n",
    "    \n",
    "    json_cache_write(name, results)\n",
    "    return results"
   ]
  },
  {
   "cell_type": "code",
   "execution_count": null,
   "metadata": {
    "tags": []
   },
   "outputs": [],
   "source": [
    "def HalfspaceFlux(L, theta, x1, x2, eps):\n",
    "    y = np.vstack([L*np.cos(theta), L*np.sin(theta)]).swapaxes(0,1)\n",
    "    def norm(v):\n",
    "        v = np.atleast_2d(v)\n",
    "        return (v**2).sum(axis=1)**0.5\n",
    "    return (np.log(norm(x2[np.newaxis]-y)/eps)/\n",
    "            (np.log(norm(x1[np.newaxis]-y)/eps)+\n",
    "             np.log(norm(x2[np.newaxis]-y)/eps)))"
   ]
  },
  {
   "cell_type": "code",
   "execution_count": null,
   "metadata": {
    "tags": []
   },
   "outputs": [],
   "source": [
    "def HalfspaceFlux2(L, theta, x1, x2, eps, alpha):\n",
    "    y = np.vstack([L*np.cos(theta), L*np.sin(theta)]).swapaxes(0,1)\n",
    "    def norm(v):\n",
    "        if len(v.shape)==1:\n",
    "            return (v**2).sum()**0.5\n",
    "        return (v**2).sum(axis=1)**0.5\n",
    "    return (0.5+alpha*np.log(norm(y-x1)/norm(y-x2))/np.log(eps/norm(x1-x2)))"
   ]
  },
  {
   "cell_type": "code",
   "execution_count": null,
   "metadata": {
    "collapsed": false,
    "hideCode": false,
    "hideOutput": false,
    "hidePrompt": false,
    "jupyter": {
     "outputs_hidden": false
    }
   },
   "outputs": [],
   "source": [
    "from matplotlib.lines import Line2D\n",
    "from scipy.optimize import leastsq\n",
    "def plot_fluxes(name, fix=[], legend=None, axlabel=\"\", labelpos=0.3):\n",
    "    from collections import defaultdict\n",
    "    from scipy.interpolate import interp1d\n",
    "    data = defaultdict(lambda : defaultdict(list))\n",
    "    for res in json_cache_read(name):\n",
    "        params = res[\"parameters\"]\n",
    "        fluxes = res[\"results\"][\"normalized_receptor_fluxes\"]\n",
    "        data[(params['source_distance'], params['receptor_distance'])][params['source_angle']].append(fluxes[1])\n",
    "    maxf = 0.0\n",
    "    minf = 1.0\n",
    "    mstyles = iter(['o', 'v', '<', '>'])\n",
    "    styles = iter(['-', '--', '-.', ':'])\n",
    "    if not isinstance(labelpos, list):\n",
    "        labelpos = len(data)*[labelpos]\n",
    "    handles = []\n",
    "    labels = []\n",
    "    for j, x in enumerate(sorted(data)):\n",
    "        d = data[x]\n",
    "        theta = np.array(sorted(d))\n",
    "        fluxes = np.array([np.mean(d[t]) for t in theta])\n",
    "        maxf = max(max(fluxes), maxf)\n",
    "        minf = min(min(fluxes), minf)\n",
    "        for f in fix:\n",
    "            fluxes[f] = float(\"NaN\")\n",
    "        mark = next(mstyles)\n",
    "        lstyle = next(styles)\n",
    "        l = plt.plot(theta, fluxes, mark, color='black', label=\"$L=%g$\" % x[0])[0]\n",
    "        recpos = np.array([(0, -x[0]/2.), (0, x[0]/2.)])\n",
    "        ttheta = np.linspace(theta[0], theta[-1], 100)\n",
    "        eps = params['receptor_epsilon']\n",
    "        \n",
    "        fitfunc = lambda alpha: fluxes[1:-1]-HalfspaceFlux2(x[0], theta[1:-1]-np.pi/2.,  recpos[0], recpos[1], eps/2., alpha)\n",
    "        p = leastsq(fitfunc, (0.5,))\n",
    "        print(x[0], p)\n",
    "        \n",
    "        plt.plot(ttheta, HalfspaceFlux2(x[0], ttheta-np.pi/2.,  recpos[0], recpos[1], eps/2., p[0][0]), color='black', ls=lstyle)\n",
    "        \n",
    "        handles.append(Line2D([0, 1], [0,0], color='black', ls=lstyle, marker=mark))\n",
    "        labels.append(\"$L=%g$\" % x[0])\n",
    "    maxt = max(theta)\n",
    "    plt.xlabel(r\"$\\theta$\")\n",
    "    plt.ylabel(r\"$J_2/(J_1+J_2)$\")\n",
    "    plt.xticks([0, np.pi/4, np.pi/2, np.pi*3/4., np.pi, np.pi*5/4., np.pi*3/2., np.pi*7/4., 2*np.pi],\n",
    "               [\"$0$\", r\"$\\pi/4$\", r\"$\\pi/2$\", r\"$3\\pi/4$\", r\"$\\pi$\", r\"$5\\pi/4$\", r\"$3\\pi/2$\", r\"$7\\pi/8$\", r\"$2\\pi$\"])\n",
    "    plt.axis(xmax=1*maxt, ymin=min(0.45, 0.95*minf), ymax=max(0.51, maxf))\n",
    "    if legend is not None:\n",
    "        plt.legend(handles, labels, loc=legend)\n",
    "    plt.text(0.05, 0.05, axlabel, transform=plt.gca().transAxes)\n",
    "    plt.axis('tight')"
   ]
  },
  {
   "cell_type": "code",
   "execution_count": null,
   "metadata": {
    "collapsed": false,
    "hideCode": false,
    "hidePrompt": false,
    "jupyter": {
     "outputs_hidden": false
    }
   },
   "outputs": [],
   "source": [
    "todo = sum([[{\"source_distance\": x, \"receptor_distance\": 1., \"receptor_epsilon\": 0.1,\n",
    "              \"source_angle\":angle, 'nr_particles': 1e3} for angle in np.linspace(0, np.pi, 10)]\n",
    "            for x in [1.0, 2.0, 5.0, 10.0]], [])\n",
    "results = send_parallel_jobs(\"halfspace\", run_simulation, todo)\n",
    "plot_fluxes(\"halfspace\", legend=\"upper center\")"
   ]
  },
  {
   "cell_type": "code",
   "execution_count": null,
   "metadata": {
    "collapsed": false,
    "jupyter": {
     "outputs_hidden": false
    }
   },
   "outputs": [],
   "source": [
    "todo = sum([[{\"source_distance\": x, \"receptor_distance\": 1., \"receptor_epsilon\": 0.05,\n",
    "              \"source_angle\":angle, 'nr_particles': 1e4} for angle in np.linspace(0, np.pi, 10)]\n",
    "            for x in [1.0, 2.0, 5.0, 10.0]], [])\n",
    "results = send_parallel_jobs(\"halfspace_smalleps\", run_simulation, todo)\n",
    "plot_fluxes(\"halfspace_smalleps\", legend=\"upper center\")"
   ]
  },
  {
   "cell_type": "code",
   "execution_count": null,
   "metadata": {
    "collapsed": false,
    "jupyter": {
     "outputs_hidden": false
    }
   },
   "outputs": [],
   "source": [
    "todo = sum([[{\"source_distance\": x, \"receptor_distance\": 1., \"receptor_epsilon\": 0.01,\n",
    "              \"source_angle\":angle, 'nr_particles': 1e4} for angle in np.linspace(0, np.pi, 10)]\n",
    "            for x in [1.0, 2.0, 5.0, 10.0]], [])\n",
    "results = send_parallel_jobs(\"halfspace_smallsmalleps\", run_simulation, todo)\n",
    "plot_fluxes(\"halfspace_smallsmalleps\", legend=\"upper center\")"
   ]
  },
  {
   "cell_type": "code",
   "execution_count": null,
   "metadata": {
    "collapsed": false,
    "jupyter": {
     "outputs_hidden": false
    }
   },
   "outputs": [],
   "source": [
    "todo = sum([[{\"source_distance\": x, \"receptor_distance\": 1., \"receptor_epsilon\": 0.25,\n",
    "              \"source_angle\":angle, 'nr_particles': 1e4} for angle in np.linspace(0, np.pi, 10)]\n",
    "            for x in [1.0, 2.0, 5.0, 10.0]], [])\n",
    "results = send_parallel_jobs(\"halfspace_largeeps\", run_simulation, todo)\n",
    "plot_fluxes(\"halfspace_largeeps\", legend=\"upper center\")"
   ]
  },
  {
   "cell_type": "code",
   "execution_count": null,
   "metadata": {
    "collapsed": false,
    "jupyter": {
     "outputs_hidden": false
    }
   },
   "outputs": [],
   "source": [
    "todo = sum([[{\"source_distance\": x, \"receptor_distance\": 2., \"receptor_epsilon\": 0.1,\n",
    "              \"source_angle\":angle, 'nr_particles': 1e4} for angle in np.linspace(0, np.pi, 10)]\n",
    "            for x in [1.0, 2.0, 5.0, 10.0]], [])\n",
    "results = send_parallel_jobs(\"halfspace_largedx\", run_simulation, todo)\n",
    "plot_fluxes(\"halfspace_largedx\", legend=\"upper center\")"
   ]
  }
 ],
 "metadata": {
  "kernelspec": {
   "display_name": "Python 3 (ipykernel)",
   "language": "python",
   "name": "python3"
  },
  "language_info": {
   "codemirror_mode": {
    "name": "ipython",
    "version": 3
   },
   "file_extension": ".py",
   "mimetype": "text/x-python",
   "name": "python",
   "nbconvert_exporter": "python",
   "pygments_lexer": "ipython3",
   "version": "3.9.13"
  }
 },
 "nbformat": 4,
 "nbformat_minor": 4
}
